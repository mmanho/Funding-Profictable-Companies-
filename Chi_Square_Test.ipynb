{
 "cells": [
  {
   "cell_type": "code",
   "execution_count": 1,
   "metadata": {
    "id": "70963841"
   },
   "outputs": [],
   "source": [
    "import numpy as np\n",
    "import pandas as pd\n",
    "import scipy.stats as st\n",
    "import matplotlib.pyplot as plt\n",
    "import seaborn as sns"
   ]
  },
  {
   "cell_type": "code",
   "execution_count": 2,
   "metadata": {
    "id": "3c79f1cc",
    "outputId": "41ee6fb5-5652-4832-83be-3f3954516b51"
   },
   "outputs": [
    {
     "data": {
      "text/html": [
       "<div>\n",
       "<style scoped>\n",
       "    .dataframe tbody tr th:only-of-type {\n",
       "        vertical-align: middle;\n",
       "    }\n",
       "\n",
       "    .dataframe tbody tr th {\n",
       "        vertical-align: top;\n",
       "    }\n",
       "\n",
       "    .dataframe thead th {\n",
       "        text-align: right;\n",
       "    }\n",
       "</style>\n",
       "<table border=\"1\" class=\"dataframe\">\n",
       "  <thead>\n",
       "    <tr style=\"text-align: right;\">\n",
       "      <th></th>\n",
       "      <th>Companies</th>\n",
       "      <th>Total Raised</th>\n",
       "      <th>Size Multiple</th>\n",
       "      <th>First Financing Valuation</th>\n",
       "      <th>First Financing Size</th>\n",
       "      <th>Revenue</th>\n",
       "      <th>Revenue Growth %</th>\n",
       "      <th>Gross Profit</th>\n",
       "      <th>Net Income</th>\n",
       "      <th>Enterprise Value</th>\n",
       "      <th>...</th>\n",
       "      <th>Last Financing Size</th>\n",
       "      <th>Last Financing Deal Type</th>\n",
       "      <th>Active Investors</th>\n",
       "      <th>Primary Contact</th>\n",
       "      <th>Ownership Status</th>\n",
       "      <th>Company Financing Status</th>\n",
       "      <th>Year Founded</th>\n",
       "      <th>HQ Location</th>\n",
       "      <th>Website</th>\n",
       "      <th>Description</th>\n",
       "    </tr>\n",
       "  </thead>\n",
       "  <tbody>\n",
       "    <tr>\n",
       "      <th>0</th>\n",
       "      <td>Sling (Communication Software)</td>\n",
       "      <td>0.50</td>\n",
       "      <td>NaN</td>\n",
       "      <td>NaN</td>\n",
       "      <td>0.10</td>\n",
       "      <td>2.5</td>\n",
       "      <td>NaN</td>\n",
       "      <td>NaN</td>\n",
       "      <td>NaN</td>\n",
       "      <td>NaN</td>\n",
       "      <td>...</td>\n",
       "      <td>NaN</td>\n",
       "      <td>Merger/Acquisition</td>\n",
       "      <td>NaN</td>\n",
       "      <td>Atli Thorbjornsson</td>\n",
       "      <td>Acquired/Merged (Operating Subsidiary)</td>\n",
       "      <td>Formerly VC-backed</td>\n",
       "      <td>2012.0</td>\n",
       "      <td>New York, NY</td>\n",
       "      <td>www.getsling.com</td>\n",
       "      <td>Developer of scheduling and communication soft...</td>\n",
       "    </tr>\n",
       "    <tr>\n",
       "      <th>1</th>\n",
       "      <td>Logiwa</td>\n",
       "      <td>28.90</td>\n",
       "      <td>10.95</td>\n",
       "      <td>NaN</td>\n",
       "      <td>NaN</td>\n",
       "      <td>NaN</td>\n",
       "      <td>NaN</td>\n",
       "      <td>NaN</td>\n",
       "      <td>NaN</td>\n",
       "      <td>NaN</td>\n",
       "      <td>...</td>\n",
       "      <td>16.4</td>\n",
       "      <td>Later Stage VC</td>\n",
       "      <td>ITU ARI Teknokent, LaunchCapital, NewRoad Capi...</td>\n",
       "      <td>Erhan Musaoglu</td>\n",
       "      <td>Privately Held (backing)</td>\n",
       "      <td>Venture Capital-Backed</td>\n",
       "      <td>2004.0</td>\n",
       "      <td>Chicago, IL</td>\n",
       "      <td>www.logiwa.com</td>\n",
       "      <td>Developer of a supply chain management softwar...</td>\n",
       "    </tr>\n",
       "    <tr>\n",
       "      <th>2</th>\n",
       "      <td>Tesorio</td>\n",
       "      <td>34.03</td>\n",
       "      <td>6.74</td>\n",
       "      <td>NaN</td>\n",
       "      <td>0.10</td>\n",
       "      <td>NaN</td>\n",
       "      <td>NaN</td>\n",
       "      <td>NaN</td>\n",
       "      <td>NaN</td>\n",
       "      <td>NaN</td>\n",
       "      <td>...</td>\n",
       "      <td>17.0</td>\n",
       "      <td>Later Stage VC</td>\n",
       "      <td>Alberto Gross, Anne Wojcicki, BAMCAP, Belltowe...</td>\n",
       "      <td>Carlos Vega</td>\n",
       "      <td>Privately Held (backing)</td>\n",
       "      <td>Venture Capital-Backed</td>\n",
       "      <td>2013.0</td>\n",
       "      <td>San Francisco, CA</td>\n",
       "      <td>www.tesorio.com</td>\n",
       "      <td>Developer of cash flow management software des...</td>\n",
       "    </tr>\n",
       "    <tr>\n",
       "      <th>3</th>\n",
       "      <td>Alliance Cost Containment</td>\n",
       "      <td>3.35</td>\n",
       "      <td>3.13</td>\n",
       "      <td>NaN</td>\n",
       "      <td>0.63</td>\n",
       "      <td>5.5</td>\n",
       "      <td>0.0</td>\n",
       "      <td>NaN</td>\n",
       "      <td>NaN</td>\n",
       "      <td>NaN</td>\n",
       "      <td>...</td>\n",
       "      <td>NaN</td>\n",
       "      <td>Secondary Transaction - Private</td>\n",
       "      <td>Yearling Management</td>\n",
       "      <td>Miles Lee</td>\n",
       "      <td>Privately Held (backing)</td>\n",
       "      <td>Venture Capital-Backed</td>\n",
       "      <td>1992.0</td>\n",
       "      <td>Louisville, KY</td>\n",
       "      <td>www.alliancecost.com</td>\n",
       "      <td>Provider of cost reduction services intended t...</td>\n",
       "    </tr>\n",
       "    <tr>\n",
       "      <th>4</th>\n",
       "      <td>Amplion (Business/Productivity Software)</td>\n",
       "      <td>8.29</td>\n",
       "      <td>4.11</td>\n",
       "      <td>NaN</td>\n",
       "      <td>0.40</td>\n",
       "      <td>NaN</td>\n",
       "      <td>NaN</td>\n",
       "      <td>NaN</td>\n",
       "      <td>NaN</td>\n",
       "      <td>NaN</td>\n",
       "      <td>...</td>\n",
       "      <td>NaN</td>\n",
       "      <td>Secondary Transaction - Private</td>\n",
       "      <td>Bend Venture Conference, Cascade Seed Fund, Ge...</td>\n",
       "      <td>Chris Capdevila</td>\n",
       "      <td>Privately Held (backing)</td>\n",
       "      <td>Venture Capital-Backed</td>\n",
       "      <td>2013.0</td>\n",
       "      <td>Bend, OR</td>\n",
       "      <td>www.amplion.com</td>\n",
       "      <td>Developer of a business intelligence platform ...</td>\n",
       "    </tr>\n",
       "  </tbody>\n",
       "</table>\n",
       "<p>5 rows × 27 columns</p>\n",
       "</div>"
      ],
      "text/plain": [
       "                                  Companies  Total Raised  Size Multiple  \\\n",
       "0            Sling (Communication Software)          0.50            NaN   \n",
       "1                                    Logiwa         28.90          10.95   \n",
       "2                                   Tesorio         34.03           6.74   \n",
       "3                 Alliance Cost Containment          3.35           3.13   \n",
       "4  Amplion (Business/Productivity Software)          8.29           4.11   \n",
       "\n",
       "   First Financing Valuation  First Financing Size  Revenue  Revenue Growth %  \\\n",
       "0                        NaN                  0.10      2.5               NaN   \n",
       "1                        NaN                   NaN      NaN               NaN   \n",
       "2                        NaN                  0.10      NaN               NaN   \n",
       "3                        NaN                  0.63      5.5               0.0   \n",
       "4                        NaN                  0.40      NaN               NaN   \n",
       "\n",
       "   Gross Profit  Net Income  Enterprise Value  ...  Last Financing Size  \\\n",
       "0           NaN         NaN               NaN  ...                  NaN   \n",
       "1           NaN         NaN               NaN  ...                 16.4   \n",
       "2           NaN         NaN               NaN  ...                 17.0   \n",
       "3           NaN         NaN               NaN  ...                  NaN   \n",
       "4           NaN         NaN               NaN  ...                  NaN   \n",
       "\n",
       "          Last Financing Deal Type  \\\n",
       "0               Merger/Acquisition   \n",
       "1                   Later Stage VC   \n",
       "2                   Later Stage VC   \n",
       "3  Secondary Transaction - Private   \n",
       "4  Secondary Transaction - Private   \n",
       "\n",
       "                                    Active Investors     Primary Contact  \\\n",
       "0                                                NaN  Atli Thorbjornsson   \n",
       "1  ITU ARI Teknokent, LaunchCapital, NewRoad Capi...      Erhan Musaoglu   \n",
       "2  Alberto Gross, Anne Wojcicki, BAMCAP, Belltowe...         Carlos Vega   \n",
       "3                                Yearling Management           Miles Lee   \n",
       "4  Bend Venture Conference, Cascade Seed Fund, Ge...     Chris Capdevila   \n",
       "\n",
       "                         Ownership Status Company Financing Status  \\\n",
       "0  Acquired/Merged (Operating Subsidiary)       Formerly VC-backed   \n",
       "1                Privately Held (backing)   Venture Capital-Backed   \n",
       "2                Privately Held (backing)   Venture Capital-Backed   \n",
       "3                Privately Held (backing)   Venture Capital-Backed   \n",
       "4                Privately Held (backing)   Venture Capital-Backed   \n",
       "\n",
       "  Year Founded        HQ Location               Website  \\\n",
       "0       2012.0       New York, NY      www.getsling.com   \n",
       "1       2004.0        Chicago, IL        www.logiwa.com   \n",
       "2       2013.0  San Francisco, CA       www.tesorio.com   \n",
       "3       1992.0     Louisville, KY  www.alliancecost.com   \n",
       "4       2013.0           Bend, OR       www.amplion.com   \n",
       "\n",
       "                                         Description  \n",
       "0  Developer of scheduling and communication soft...  \n",
       "1  Developer of a supply chain management softwar...  \n",
       "2  Developer of cash flow management software des...  \n",
       "3  Provider of cost reduction services intended t...  \n",
       "4  Developer of a business intelligence platform ...  \n",
       "\n",
       "[5 rows x 27 columns]"
      ]
     },
     "execution_count": 2,
     "metadata": {},
     "output_type": "execute_result"
    }
   ],
   "source": [
    "df=pd.read_excel(\"PitchBook_All_Rows.xlsx\")\n",
    "df.head()"
   ]
  },
  {
   "cell_type": "code",
   "execution_count": 3,
   "metadata": {
    "id": "3ec8d882",
    "outputId": "5879d430-4ced-44fa-e4b9-b3e143b008a6"
   },
   "outputs": [
    {
     "data": {
      "text/plain": [
       "(10000, 27)"
      ]
     },
     "execution_count": 3,
     "metadata": {},
     "output_type": "execute_result"
    }
   ],
   "source": [
    "df.shape"
   ]
  },
  {
   "cell_type": "code",
   "execution_count": 4,
   "metadata": {
    "id": "eebf3d25",
    "outputId": "d70c7a20-2690-4f40-8622-21cde5a8a5ab"
   },
   "outputs": [
    {
     "data": {
      "text/plain": [
       "Companies                    False\n",
       "Total Raised                  True\n",
       "Size Multiple                 True\n",
       "First Financing Valuation     True\n",
       "First Financing Size          True\n",
       "Revenue                       True\n",
       "Revenue Growth %              True\n",
       "Gross Profit                  True\n",
       "Net Income                    True\n",
       "Enterprise Value              True\n",
       "EBITDA                        True\n",
       "EBIT                          True\n",
       "Market Cap                    True\n",
       "Net Debt                      True\n",
       "Fiscal Period                 True\n",
       "Primary Industry Code        False\n",
       "Last Financing Date          False\n",
       "Last Financing Size           True\n",
       "Last Financing Deal Type     False\n",
       "Active Investors              True\n",
       "Primary Contact               True\n",
       "Ownership Status             False\n",
       "Company Financing Status     False\n",
       "Year Founded                 False\n",
       "HQ Location                  False\n",
       "Website                      False\n",
       "Description                  False\n",
       "dtype: bool"
      ]
     },
     "execution_count": 4,
     "metadata": {},
     "output_type": "execute_result"
    }
   ],
   "source": [
    "df.isnull().sum()>1400"
   ]
  },
  {
   "cell_type": "code",
   "execution_count": 5,
   "metadata": {
    "id": "9f4d58ea",
    "outputId": "343b9c5f-3840-4a47-bcf0-e455ee9b9221"
   },
   "outputs": [
    {
     "data": {
      "text/html": [
       "<div>\n",
       "<style scoped>\n",
       "    .dataframe tbody tr th:only-of-type {\n",
       "        vertical-align: middle;\n",
       "    }\n",
       "\n",
       "    .dataframe tbody tr th {\n",
       "        vertical-align: top;\n",
       "    }\n",
       "\n",
       "    .dataframe thead th {\n",
       "        text-align: right;\n",
       "    }\n",
       "</style>\n",
       "<table border=\"1\" class=\"dataframe\">\n",
       "  <thead>\n",
       "    <tr style=\"text-align: right;\">\n",
       "      <th></th>\n",
       "      <th>Companies</th>\n",
       "      <th>Total Raised</th>\n",
       "      <th>Size Multiple</th>\n",
       "      <th>First Financing Valuation</th>\n",
       "      <th>First Financing Size</th>\n",
       "      <th>Revenue</th>\n",
       "      <th>Revenue Growth %</th>\n",
       "      <th>Enterprise Value</th>\n",
       "      <th>EBITDA</th>\n",
       "      <th>Primary Industry Code</th>\n",
       "      <th>Last Financing Date</th>\n",
       "      <th>Last Financing Size</th>\n",
       "      <th>Last Financing Deal Type</th>\n",
       "      <th>Primary Contact</th>\n",
       "      <th>Ownership Status</th>\n",
       "      <th>Company Financing Status</th>\n",
       "      <th>Year Founded</th>\n",
       "      <th>HQ Location</th>\n",
       "      <th>Website</th>\n",
       "      <th>Description</th>\n",
       "    </tr>\n",
       "  </thead>\n",
       "  <tbody>\n",
       "    <tr>\n",
       "      <th>0</th>\n",
       "      <td>Sling (Communication Software)</td>\n",
       "      <td>0.50</td>\n",
       "      <td>NaN</td>\n",
       "      <td>NaN</td>\n",
       "      <td>0.10</td>\n",
       "      <td>2.5</td>\n",
       "      <td>NaN</td>\n",
       "      <td>NaN</td>\n",
       "      <td>NaN</td>\n",
       "      <td>Communication Software</td>\n",
       "      <td>2022-07-07</td>\n",
       "      <td>NaN</td>\n",
       "      <td>Merger/Acquisition</td>\n",
       "      <td>Atli Thorbjornsson</td>\n",
       "      <td>Acquired/Merged (Operating Subsidiary)</td>\n",
       "      <td>Formerly VC-backed</td>\n",
       "      <td>2012.0</td>\n",
       "      <td>New York, NY</td>\n",
       "      <td>www.getsling.com</td>\n",
       "      <td>Developer of scheduling and communication soft...</td>\n",
       "    </tr>\n",
       "    <tr>\n",
       "      <th>1</th>\n",
       "      <td>Logiwa</td>\n",
       "      <td>28.90</td>\n",
       "      <td>10.95</td>\n",
       "      <td>NaN</td>\n",
       "      <td>NaN</td>\n",
       "      <td>NaN</td>\n",
       "      <td>NaN</td>\n",
       "      <td>NaN</td>\n",
       "      <td>NaN</td>\n",
       "      <td>Business/Productivity Software</td>\n",
       "      <td>2022-07-06</td>\n",
       "      <td>16.4</td>\n",
       "      <td>Later Stage VC</td>\n",
       "      <td>Erhan Musaoglu</td>\n",
       "      <td>Privately Held (backing)</td>\n",
       "      <td>Venture Capital-Backed</td>\n",
       "      <td>2004.0</td>\n",
       "      <td>Chicago, IL</td>\n",
       "      <td>www.logiwa.com</td>\n",
       "      <td>Developer of a supply chain management softwar...</td>\n",
       "    </tr>\n",
       "    <tr>\n",
       "      <th>2</th>\n",
       "      <td>Tesorio</td>\n",
       "      <td>34.03</td>\n",
       "      <td>6.74</td>\n",
       "      <td>NaN</td>\n",
       "      <td>0.10</td>\n",
       "      <td>NaN</td>\n",
       "      <td>NaN</td>\n",
       "      <td>NaN</td>\n",
       "      <td>NaN</td>\n",
       "      <td>Financial Software</td>\n",
       "      <td>2022-07-05</td>\n",
       "      <td>17.0</td>\n",
       "      <td>Later Stage VC</td>\n",
       "      <td>Carlos Vega</td>\n",
       "      <td>Privately Held (backing)</td>\n",
       "      <td>Venture Capital-Backed</td>\n",
       "      <td>2013.0</td>\n",
       "      <td>San Francisco, CA</td>\n",
       "      <td>www.tesorio.com</td>\n",
       "      <td>Developer of cash flow management software des...</td>\n",
       "    </tr>\n",
       "    <tr>\n",
       "      <th>3</th>\n",
       "      <td>Alliance Cost Containment</td>\n",
       "      <td>3.35</td>\n",
       "      <td>3.13</td>\n",
       "      <td>NaN</td>\n",
       "      <td>0.63</td>\n",
       "      <td>5.5</td>\n",
       "      <td>0.0</td>\n",
       "      <td>NaN</td>\n",
       "      <td>NaN</td>\n",
       "      <td>Consulting Services (B2B)</td>\n",
       "      <td>2022-07-01</td>\n",
       "      <td>NaN</td>\n",
       "      <td>Secondary Transaction - Private</td>\n",
       "      <td>Miles Lee</td>\n",
       "      <td>Privately Held (backing)</td>\n",
       "      <td>Venture Capital-Backed</td>\n",
       "      <td>1992.0</td>\n",
       "      <td>Louisville, KY</td>\n",
       "      <td>www.alliancecost.com</td>\n",
       "      <td>Provider of cost reduction services intended t...</td>\n",
       "    </tr>\n",
       "    <tr>\n",
       "      <th>4</th>\n",
       "      <td>Amplion (Business/Productivity Software)</td>\n",
       "      <td>8.29</td>\n",
       "      <td>4.11</td>\n",
       "      <td>NaN</td>\n",
       "      <td>0.40</td>\n",
       "      <td>NaN</td>\n",
       "      <td>NaN</td>\n",
       "      <td>NaN</td>\n",
       "      <td>NaN</td>\n",
       "      <td>Business/Productivity Software</td>\n",
       "      <td>2022-07-01</td>\n",
       "      <td>NaN</td>\n",
       "      <td>Secondary Transaction - Private</td>\n",
       "      <td>Chris Capdevila</td>\n",
       "      <td>Privately Held (backing)</td>\n",
       "      <td>Venture Capital-Backed</td>\n",
       "      <td>2013.0</td>\n",
       "      <td>Bend, OR</td>\n",
       "      <td>www.amplion.com</td>\n",
       "      <td>Developer of a business intelligence platform ...</td>\n",
       "    </tr>\n",
       "  </tbody>\n",
       "</table>\n",
       "</div>"
      ],
      "text/plain": [
       "                                  Companies  Total Raised  Size Multiple  \\\n",
       "0            Sling (Communication Software)          0.50            NaN   \n",
       "1                                    Logiwa         28.90          10.95   \n",
       "2                                   Tesorio         34.03           6.74   \n",
       "3                 Alliance Cost Containment          3.35           3.13   \n",
       "4  Amplion (Business/Productivity Software)          8.29           4.11   \n",
       "\n",
       "   First Financing Valuation  First Financing Size  Revenue  Revenue Growth %  \\\n",
       "0                        NaN                  0.10      2.5               NaN   \n",
       "1                        NaN                   NaN      NaN               NaN   \n",
       "2                        NaN                  0.10      NaN               NaN   \n",
       "3                        NaN                  0.63      5.5               0.0   \n",
       "4                        NaN                  0.40      NaN               NaN   \n",
       "\n",
       "   Enterprise Value  EBITDA           Primary Industry Code  \\\n",
       "0               NaN     NaN          Communication Software   \n",
       "1               NaN     NaN  Business/Productivity Software   \n",
       "2               NaN     NaN              Financial Software   \n",
       "3               NaN     NaN       Consulting Services (B2B)   \n",
       "4               NaN     NaN  Business/Productivity Software   \n",
       "\n",
       "  Last Financing Date  Last Financing Size         Last Financing Deal Type  \\\n",
       "0          2022-07-07                  NaN               Merger/Acquisition   \n",
       "1          2022-07-06                 16.4                   Later Stage VC   \n",
       "2          2022-07-05                 17.0                   Later Stage VC   \n",
       "3          2022-07-01                  NaN  Secondary Transaction - Private   \n",
       "4          2022-07-01                  NaN  Secondary Transaction - Private   \n",
       "\n",
       "      Primary Contact                        Ownership Status  \\\n",
       "0  Atli Thorbjornsson  Acquired/Merged (Operating Subsidiary)   \n",
       "1      Erhan Musaoglu                Privately Held (backing)   \n",
       "2         Carlos Vega                Privately Held (backing)   \n",
       "3           Miles Lee                Privately Held (backing)   \n",
       "4     Chris Capdevila                Privately Held (backing)   \n",
       "\n",
       "  Company Financing Status  Year Founded        HQ Location  \\\n",
       "0       Formerly VC-backed        2012.0       New York, NY   \n",
       "1   Venture Capital-Backed        2004.0        Chicago, IL   \n",
       "2   Venture Capital-Backed        2013.0  San Francisco, CA   \n",
       "3   Venture Capital-Backed        1992.0     Louisville, KY   \n",
       "4   Venture Capital-Backed        2013.0           Bend, OR   \n",
       "\n",
       "                Website                                        Description  \n",
       "0      www.getsling.com  Developer of scheduling and communication soft...  \n",
       "1        www.logiwa.com  Developer of a supply chain management softwar...  \n",
       "2       www.tesorio.com  Developer of cash flow management software des...  \n",
       "3  www.alliancecost.com  Provider of cost reduction services intended t...  \n",
       "4       www.amplion.com  Developer of a business intelligence platform ...  "
      ]
     },
     "execution_count": 5,
     "metadata": {},
     "output_type": "execute_result"
    }
   ],
   "source": [
    "df.drop(['Gross Profit','Net Income','EBIT','Market Cap','Net Debt','Fiscal Period',\n",
    "         'Active Investors'],axis=1,inplace=True)\n",
    "df.head()"
   ]
  },
  {
   "cell_type": "code",
   "execution_count": 6,
   "metadata": {
    "id": "7e5301d3",
    "outputId": "13e9ca7e-1b6d-41ce-f109-14876c692e4b"
   },
   "outputs": [
    {
     "data": {
      "text/plain": [
       "Companies                       0\n",
       "Total Raised                 1849\n",
       "Size Multiple                7722\n",
       "First Financing Valuation    7020\n",
       "First Financing Size         3406\n",
       "Revenue                      7563\n",
       "Revenue Growth %             8753\n",
       "Enterprise Value             9645\n",
       "EBITDA                       9544\n",
       "Primary Industry Code           0\n",
       "Last Financing Date            16\n",
       "Last Financing Size          7887\n",
       "Last Financing Deal Type        0\n",
       "Primary Contact              3640\n",
       "Ownership Status                0\n",
       "Company Financing Status        0\n",
       "Year Founded                  536\n",
       "HQ Location                    47\n",
       "Website                       380\n",
       "Description                     0\n",
       "dtype: int64"
      ]
     },
     "execution_count": 6,
     "metadata": {},
     "output_type": "execute_result"
    }
   ],
   "source": [
    "df.isnull().sum()"
   ]
  },
  {
   "cell_type": "code",
   "execution_count": 7,
   "metadata": {
    "id": "12fc09ad",
    "outputId": "13d2d757-1478-4dde-915b-84f0d62dfff4"
   },
   "outputs": [
    {
     "name": "stdout",
     "output_type": "stream",
     "text": [
      "<class 'pandas.core.frame.DataFrame'>\n",
      "RangeIndex: 10000 entries, 0 to 9999\n",
      "Data columns (total 20 columns):\n",
      " #   Column                     Non-Null Count  Dtype         \n",
      "---  ------                     --------------  -----         \n",
      " 0   Companies                  10000 non-null  object        \n",
      " 1   Total Raised               8151 non-null   float64       \n",
      " 2   Size Multiple              2278 non-null   float64       \n",
      " 3   First Financing Valuation  2980 non-null   float64       \n",
      " 4   First Financing Size       6594 non-null   float64       \n",
      " 5   Revenue                    2437 non-null   float64       \n",
      " 6   Revenue Growth %           1247 non-null   float64       \n",
      " 7   Enterprise Value           355 non-null    float64       \n",
      " 8   EBITDA                     456 non-null    float64       \n",
      " 9   Primary Industry Code      10000 non-null  object        \n",
      " 10  Last Financing Date        9984 non-null   datetime64[ns]\n",
      " 11  Last Financing Size        2113 non-null   float64       \n",
      " 12  Last Financing Deal Type   10000 non-null  object        \n",
      " 13  Primary Contact            6360 non-null   object        \n",
      " 14  Ownership Status           10000 non-null  object        \n",
      " 15  Company Financing Status   10000 non-null  object        \n",
      " 16  Year Founded               9464 non-null   float64       \n",
      " 17  HQ Location                9953 non-null   object        \n",
      " 18  Website                    9620 non-null   object        \n",
      " 19  Description                10000 non-null  object        \n",
      "dtypes: datetime64[ns](1), float64(10), object(9)\n",
      "memory usage: 1.2+ MB\n"
     ]
    }
   ],
   "source": [
    "df.info()"
   ]
  },
  {
   "cell_type": "code",
   "execution_count": 8,
   "metadata": {
    "id": "44fe976b",
    "outputId": "68466a1c-be76-4cdf-d6e3-9bc22ac1ed7a"
   },
   "outputs": [
    {
     "data": {
      "text/plain": [
       "Acquired/Merged (Operating Subsidiary)    2639\n",
       "Acquired/Merged                           2595\n",
       "Out of Business                           2441\n",
       "Privately Held (backing)                  2056\n",
       "Publicly Held                              263\n",
       "In IPO Registration                          6\n",
       "Name: Ownership Status, dtype: int64"
      ]
     },
     "execution_count": 8,
     "metadata": {},
     "output_type": "execute_result"
    }
   ],
   "source": [
    "df['Ownership Status'].value_counts()"
   ]
  },
  {
   "cell_type": "code",
   "execution_count": 9,
   "metadata": {
    "id": "5443034b",
    "outputId": "dfc12f66-d3b9-43f2-8a98-6590a02370e3"
   },
   "outputs": [],
   "source": [
    "df['HQ State'] = df['HQ Location'].str[-2:]"
   ]
  },
  {
   "cell_type": "code",
   "execution_count": 10,
   "metadata": {
    "id": "fd51217a"
   },
   "outputs": [
    {
     "data": {
      "text/plain": [
       "0        NY\n",
       "1        IL\n",
       "2        CA\n",
       "3        KY\n",
       "4        OR\n",
       "       ... \n",
       "9995     CA\n",
       "9996     WA\n",
       "9997     CA\n",
       "9998    NaN\n",
       "9999     CA\n",
       "Name: HQ State, Length: 10000, dtype: object"
      ]
     },
     "execution_count": 10,
     "metadata": {},
     "output_type": "execute_result"
    }
   ],
   "source": [
    "df['HQ State']"
   ]
  },
  {
   "cell_type": "code",
   "execution_count": 11,
   "metadata": {
    "id": "11e7617b"
   },
   "outputs": [],
   "source": [
    "df['Total Raised']=df['Total Raised'].astype('object')\n",
    "df['Size Multiple']=df['Size Multiple'].astype('object')\n",
    "df['First Financing Valuation']=df['First Financing Valuation'].astype('object')\n",
    "df['First Financing Size']=df['First Financing Size'].astype('object')\n",
    "df['Revenue']=df['Revenue'].astype('object')\n",
    "df['Revenue Growth %']=df['Revenue Growth %'].astype('object')\n",
    "df['Enterprise Value']=df['Enterprise Value'].astype('object')\n",
    "df['EBITDA']=df['EBITDA'].astype('object')\n",
    "df['Last Financing Date']=df['Last Financing Date'].astype('object')\n",
    "df['Last Financing Size']=df['Last Financing Size'].astype('object')\n",
    "df['Year Founded']=df['Year Founded'].astype('object')\n"
   ]
  },
  {
   "cell_type": "code",
   "execution_count": 12,
   "metadata": {
    "id": "1e143b3c",
    "outputId": "9cf51183-d9b9-4c4b-cc60-d469690ca303"
   },
   "outputs": [
    {
     "data": {
      "text/plain": [
       "Index(['Total Raised', 'Size Multiple', 'First Financing Valuation',\n",
       "       'First Financing Size', 'Revenue', 'Revenue Growth %',\n",
       "       'Enterprise Value', 'EBITDA', 'Primary Industry Code',\n",
       "       'Last Financing Date', 'Last Financing Size',\n",
       "       'Last Financing Deal Type', 'Primary Contact',\n",
       "       'Company Financing Status', 'Year Founded', 'HQ Location', 'Website',\n",
       "       'Description', 'HQ State'],\n",
       "      dtype='object')"
      ]
     },
     "execution_count": 12,
     "metadata": {},
     "output_type": "execute_result"
    }
   ],
   "source": [
    "cat_cols = df.select_dtypes(exclude = 'number').drop(['Ownership Status','Companies'],axis=1).columns\n",
    "cat_cols"
   ]
  },
  {
   "cell_type": "code",
   "execution_count": 13,
   "metadata": {
    "id": "d64742a3"
   },
   "outputs": [],
   "source": [
    "from scipy.stats import chi2_contingency"
   ]
  },
  {
   "cell_type": "code",
   "execution_count": 14,
   "metadata": {
    "id": "29c27f13",
    "outputId": "32137c51-f0a8-4e79-bae6-a49fbc26bc27"
   },
   "outputs": [
    {
     "name": "stdout",
     "output_type": "stream",
     "text": [
      "Chi2 Statistic: 23090.228161658713, p-value: 6.690376553145243e-250\n"
     ]
    }
   ],
   "source": [
    "chi_res = chi2_contingency(pd.crosstab(df['Ownership Status'], df['Total Raised']))\n",
    "print('Chi2 Statistic: {}, p-value: {}'.format(chi_res[0], chi_res[1]))"
   ]
  },
  {
   "cell_type": "code",
   "execution_count": 15,
   "metadata": {
    "id": "29996275",
    "outputId": "9d22f7e3-4e16-4084-db57-f5f07cb2150c"
   },
   "outputs": [
    {
     "name": "stdout",
     "output_type": "stream",
     "text": [
      "                       Column    Relationship Status\n",
      "0                Total Raised  There is relationship\n",
      "1               Size Multiple        No relationship\n",
      "2   First Financing Valuation  There is relationship\n",
      "3        First Financing Size  There is relationship\n",
      "4                     Revenue  There is relationship\n",
      "5            Revenue Growth %  There is relationship\n",
      "6            Enterprise Value  There is relationship\n",
      "7                      EBITDA  There is relationship\n",
      "8       Primary Industry Code  There is relationship\n",
      "9         Last Financing Date  There is relationship\n",
      "10        Last Financing Size        No relationship\n",
      "11   Last Financing Deal Type  There is relationship\n",
      "12            Primary Contact  There is relationship\n",
      "13   Company Financing Status  There is relationship\n",
      "14               Year Founded  There is relationship\n",
      "15                HQ Location  There is relationship\n",
      "16                    Website  There is relationship\n",
      "17                Description  There is relationship\n",
      "18                   HQ State  There is relationship\n"
     ]
    }
   ],
   "source": [
    "chi2_check = []\n",
    "for i in cat_cols:\n",
    "    if chi2_contingency(pd.crosstab(df['Ownership Status'],df[i]))[1] < 0.05:\n",
    "        chi2_check.append('There is relationship')\n",
    "    else:\n",
    "        chi2_check.append('No relationship')\n",
    "res = pd.DataFrame(data = [cat_cols, chi2_check] ).T \n",
    "res.columns = ['Column', 'Relationship Status']\n",
    "print(res)"
   ]
  },
  {
   "cell_type": "markdown",
   "metadata": {
    "id": "3fa8fa1c"
   },
   "source": [
    "Based on Chi-Square Contigency test we can see that all columns except Size Multiple and Last Financing Size have relationship with the target column which is Ownership Status when we take the p-Value cutoff at 0.05."
   ]
  }
 ],
 "metadata": {
  "colab": {
   "provenance": []
  },
  "kernelspec": {
   "display_name": "Python 3",
   "language": "python",
   "name": "python3"
  },
  "language_info": {
   "codemirror_mode": {
    "name": "ipython",
    "version": 3
   },
   "file_extension": ".py",
   "mimetype": "text/x-python",
   "name": "python",
   "nbconvert_exporter": "python",
   "pygments_lexer": "ipython3",
   "version": "3.9.7"
  }
 },
 "nbformat": 4,
 "nbformat_minor": 5
}
